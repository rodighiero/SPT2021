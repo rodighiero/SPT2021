{
  "cells": [
    {
      "cell_type": "code",
      "execution_count": 1,
      "metadata": {
        "collapsed": false
      },
      "outputs": [],
      "source": [
        "%matplotlib inline"
      ]
    },
    {
      "cell_type": "markdown",
      "metadata": {},
      "source": [
        "\n# Masked wordcloud\n\nUsing a mask you can generate wordclouds in arbitrary shapes.\n"
      ]
    },
    {
      "cell_type": "code",
      "execution_count": 38,
      "metadata": {
        "collapsed": false
      },
      "outputs": [
        {
          "output_type": "stream",
          "name": "stdout",
          "text": [
            "[[[255 255 255 255]\n  [255 255 255 255]\n  [255 255 255 255]\n  ...\n  [255 255 255 255]\n  [255 255 255 255]\n  [255 255 255 255]]\n\n [[255 255 255 255]\n  [255 255 255 255]\n  [255 255 255 255]\n  ...\n  [255 255 255 255]\n  [255 255 255 255]\n  [255 255 255 255]]\n\n [[255 255 255 255]\n  [255 255 255 255]\n  [255 255 255 255]\n  ...\n  [255 255 255 255]\n  [255 255 255 255]\n  [255 255 255 255]]\n\n ...\n\n [[255 255 255 255]\n  [255 255 255 255]\n  [255 255 255 255]\n  ...\n  [255 255 255 255]\n  [255 255 255 255]\n  [255 255 255 255]]\n\n [[255 255 255 255]\n  [255 255 255 255]\n  [255 255 255 255]\n  ...\n  [255 255 255 255]\n  [255 255 255 255]\n  [255 255 255 255]]\n\n [[255 255 255 255]\n  [255 255 255 255]\n  [255 255 255 255]\n  ...\n  [255 255 255 255]\n  [255 255 255 255]\n  [255 255 255 255]]]\n"
          ]
        },
        {
          "output_type": "execute_result",
          "data": {
            "text/plain": [
              "<wordcloud.wordcloud.WordCloud at 0x7fb25f050670>"
            ]
          },
          "metadata": {},
          "execution_count": 38
        }
      ],
      "source": [
        "from os import path\n",
        "from PIL import Image\n",
        "import numpy as np\n",
        "import matplotlib.pyplot as plt\n",
        "import os\n",
        "\n",
        "from wordcloud import WordCloud, STOPWORDS\n",
        "\n",
        "d = path.dirname(__file__) if \"__file__\" in locals() else os.getcwd()\n",
        "\n",
        "# Read the whole text.\n",
        "text = 'Lorem ipsum dolor sit amet, consectetur adipiscing elit, sed do eiusmod tempor incididunt ut labore et dolore magna aliqua. Ut enim ad minim veniam, quis nostrud exercitation ullamco laboris nisi ut aliquip ex ea commodo consequat. Duis aute irure dolor in reprehenderit in voluptate velit esse cillum dolore eu fugiat nulla pariatur. Excepteur sint occaecat cupidatat non proident, sunt in culpa qui officia deserunt mollit anim id est laborum.'\n",
        "\n",
        "alice_mask = np.array(Image.open(path.join(d, \"alice_mask.png\")))\n",
        "\n",
        "print(alice_mask)\n",
        "\n",
        "stopwords = set(STOPWORDS)\n",
        "stopwords.add(\"said\")\n",
        "\n",
        "wc = WordCloud(mode = \"RGBA\", background_color=None, max_words=2000, mask=alice_mask,\n",
        "               stopwords=stopwords, contour_width=0, scale=2, width=800)\n",
        "\n",
        "# generate word cloud\n",
        "wc.generate(text)\n",
        "\n",
        "# store to file\n",
        "wc.to_file(path.join(d, \"alice.png\"))"
      ]
    },
    {
      "cell_type": "code",
      "execution_count": null,
      "metadata": {},
      "outputs": [],
      "source": []
    }
  ],
  "metadata": {
    "kernelspec": {
      "display_name": "Python 3.8.8 64-bit ('base': virtualenv)",
      "language": "python",
      "name": "python38864bitbasevirtualenv5223d6103b7a49faac888ff1fb3c7e01"
    },
    "language_info": {
      "codemirror_mode": {
        "name": "ipython",
        "version": 3
      },
      "file_extension": ".py",
      "mimetype": "text/x-python",
      "name": "python",
      "nbconvert_exporter": "python",
      "pygments_lexer": "ipython3",
      "version": "3.8.5-final"
    }
  },
  "nbformat": 4,
  "nbformat_minor": 0
}